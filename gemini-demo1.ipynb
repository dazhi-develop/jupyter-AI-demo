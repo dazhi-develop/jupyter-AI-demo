{
 "cells": [
  {
   "cell_type": "code",
   "execution_count": 29,
   "id": "926cbb9f-0e88-498d-a1f0-5378e12a7f3b",
   "metadata": {},
   "outputs": [],
   "source": [
    "import pathlib\n",
    "import textwrap\n",
    "import os\n",
    "import google.generativeai as genai\n",
    "\n",
    "from IPython.display import display\n",
    "from IPython.display import Markdown\n",
    "\n",
    "def to_markdown(text):\n",
    "  text = text.replace('•', '  *')\n",
    "  return Markdown(textwrap.indent(text, '> ', predicate=lambda _: True))"
   ]
  },
  {
   "cell_type": "code",
   "execution_count": 13,
   "id": "7e0cd7de-ceb6-4ee9-be32-6c7bae69a56e",
   "metadata": {},
   "outputs": [],
   "source": [
    "GOOGLE_API_KEY=os.getenv('GOOGLE_API_KEY')\n",
    "\n",
    "genai.configure(api_key=GOOGLE_API_KEY,transport='rest')\n",
    "# print(GOOGLE_API_KEY)"
   ]
  },
  {
   "cell_type": "code",
   "execution_count": 14,
   "id": "50451943-6102-406b-9d1c-2c23c227eaa7",
   "metadata": {},
   "outputs": [
    {
     "name": "stdout",
     "output_type": "stream",
     "text": [
      "models/gemini-pro\n",
      "models/gemini-pro-vision\n"
     ]
    }
   ],
   "source": [
    "# Use list_models to see the available Gemini models:\n",
    "for m in genai.list_models():\n",
    "  if 'generateContent' in m.supported_generation_methods:\n",
    "    print(m.name)"
   ]
  },
  {
   "cell_type": "code",
   "execution_count": 15,
   "id": "77a5a06b-e949-4d02-8a34-5c34ee0116e0",
   "metadata": {},
   "outputs": [],
   "source": [
    "model = genai.GenerativeModel('gemini-pro')"
   ]
  },
  {
   "cell_type": "code",
   "execution_count": 18,
   "id": "47ebd6ec-5a4f-4538-aa41-efa53ff94e1c",
   "metadata": {},
   "outputs": [
    {
     "name": "stdout",
     "output_type": "stream",
     "text": [
      "CPU times: total: 0 ns\n",
      "Wall time: 8.42 s\n"
     ]
    },
    {
     "data": {
      "text/markdown": [
       "> 1. **找到生命的意义。**每个人对“意义”的定义都不同，因此您需要探索自己的价值观、兴趣和目标，以了解什么让您的生活有意义。一旦您发现了生命的意义，您会更有可能朝着实现它们努力，并在这个过程中体验到幸福和满足感。\n",
       "> 2. **过上充实的生活。**充实的生活不仅仅是努力工作和赚钱，还包括花时间与您爱的人在一起、做您喜欢的事情和照顾好您的身心健康。当您过上充实的生活时，您会更有可能感到快乐和满足。\n",
       "> 3. **回馈社会。**通过帮助他人，您不但可以使世界变得更美好，还可以体验到幸福和满足感。回馈社会的方式有很多，您可以志愿者服务、捐赠钱物或只是对他人表示关心。\n",
       "> 4. **学习和成长。**终身学习可以使您保持头脑敏锐和思想开放，并帮助您应对人生中可能遇到的挑战。学习和成长也可以使您变得更加自信和有能力。\n",
       "> 5. **照顾好您的身心健康。**拥有健康的身体和健康的心智对于过上充实的生活非常重要。照顾好您的身心健康意味着要吃健康的食物、进行锻炼、保证充足的睡眠并管理压力。\n",
       "> 6. **与您爱的人共度美好时光。**与您爱的人共度美好时光可以使您感到快乐和满足。与您爱的人共度美好时光的方式有很多，您可以一起散步、吃晚餐或只是聊天。\n",
       "> 7. **做您喜欢的事情。**做您喜欢的事情可以使您感到快乐和满足。做您喜欢的事情的方式有很多，您可以阅读、听音乐、看电影或只是在公园里散步。\n",
       "> 8. **管理压力。**压力是生活中的一部分，但如果您不管理好压力，它可能会对您的身心健康产生负面影响。管理压力的方式有很多，您可以锻炼、瑜伽、冥想或只是与朋友聊天。\n",
       "> 9. **寻求专业帮助。**如果您正在经历困难时期，不要害怕寻求专业帮助。心理咨询师可以帮助您理解自己的问题并找到应对的策略。"
      ],
      "text/plain": [
       "<IPython.core.display.Markdown object>"
      ]
     },
     "execution_count": 18,
     "metadata": {},
     "output_type": "execute_result"
    }
   ],
   "source": [
    "%%time\n",
    "response = model.generate_content(\"人生的意义是什么?\")\n",
    "to_markdown(response.text)"
   ]
  },
  {
   "cell_type": "code",
   "execution_count": 19,
   "id": "d061adfb-b798-4eba-9d76-8a6b0ba9099c",
   "metadata": {},
   "outputs": [
    {
     "name": "stdout",
     "output_type": "stream",
     "text": [
      "[index: 0\n",
      "content {\n",
      "  parts {\n",
      "    text: \"1. **找到生命的意义。**每个人对“意义”的定义都不同，因此您需要探索自己的价值观、兴趣和目标，以了解什么让您的生活有意义。一旦您发现了生命的意义，您会更有可能朝着实现它们努力，并在这个过程中体验到幸福和满足感。\\n2. **过上充实的生活。**充实的生活不仅仅是努力工作和赚钱，还包括花时间与您爱的人在一起、做您喜欢的事情和照顾好您的身心健康。当您过上充实的生活时，您会更有可能感到快乐和满足。\\n3. **回馈社会。**通过帮助他人，您不但可以使世界变得更美好，还可以体验到幸福和满足感。回馈社会的方式有很多，您可以志愿者服务、捐赠钱物或只是对他人表示关心。\\n4. **学习和成长。**终身学习可以使您保持头脑敏锐和思想开放，并帮助您应对人生中可能遇到的挑战。学习和成长也可以使您变得更加自信和有能力。\\n5. **照顾好您的身心健康。**拥有健康的身体和健康的心智对于过上充实的生活非常重要。照顾好您的身心健康意味着要吃健康的食物、进行锻炼、保证充足的睡眠并管理压力。\\n6. **与您爱的人共度美好时光。**与您爱的人共度美好时光可以使您感到快乐和满足。与您爱的人共度美好时光的方式有很多，您可以一起散步、吃晚餐或只是聊天。\\n7. **做您喜欢的事情。**做您喜欢的事情可以使您感到快乐和满足。做您喜欢的事情的方式有很多，您可以阅读、听音乐、看电影或只是在公园里散步。\\n8. **管理压力。**压力是生活中的一部分，但如果您不管理好压力，它可能会对您的身心健康产生负面影响。管理压力的方式有很多，您可以锻炼、瑜伽、冥想或只是与朋友聊天。\\n9. **寻求专业帮助。**如果您正在经历困难时期，不要害怕寻求专业帮助。心理咨询师可以帮助您理解自己的问题并找到应对的策略。\"\n",
      "  }\n",
      "  role: \"model\"\n",
      "}\n",
      "finish_reason: STOP\n",
      "safety_ratings {\n",
      "  category: HARM_CATEGORY_SEXUALLY_EXPLICIT\n",
      "  probability: NEGLIGIBLE\n",
      "}\n",
      "safety_ratings {\n",
      "  category: HARM_CATEGORY_HATE_SPEECH\n",
      "  probability: NEGLIGIBLE\n",
      "}\n",
      "safety_ratings {\n",
      "  category: HARM_CATEGORY_HARASSMENT\n",
      "  probability: NEGLIGIBLE\n",
      "}\n",
      "safety_ratings {\n",
      "  category: HARM_CATEGORY_DANGEROUS_CONTENT\n",
      "  probability: NEGLIGIBLE\n",
      "}\n",
      "]\n"
     ]
    }
   ],
   "source": [
    "print(response.candidates)"
   ]
  },
  {
   "cell_type": "code",
   "execution_count": 21,
   "id": "6f41c707-f319-4020-8e06-20d9b24001ae",
   "metadata": {},
   "outputs": [
    {
     "name": "stdout",
     "output_type": "stream",
     "text": [
      "1. **发现自我，追求自我实现：** 探索自己的兴趣、\n",
      "________________________________________________________________________________\n",
      "优势和激情，并努力发展它们，实现个人目标和抱负。\n",
      "2. **与他人建立有意义的联系：** 培养爱\n",
      "________________________________________________________________________________\n",
      "、友谊和亲密关系，与他人分享经历，提供情感支持和关怀。\n",
      "3. **学习新事物，不断增长：** 保持好奇心，不断学习新知识和技能，开阔眼界，提升个人素养和能力。\n",
      "4. **贡献社会，帮助\n",
      "________________________________________________________________________________\n",
      "他人：** 参与志愿活动或社区服务，帮助有需要的人，为社会作出积极贡献。\n",
      "5. **体验生活，享受当下：** 关注当下时刻，欣赏生活中的美好，享受简单的乐趣，创造美好的回忆。\n",
      "6. **寻找你自己的意义：** 人生意义因人而异，不同的人对人生的意义有着不同的理解。每个人都需要找到自己的意义，才能真正地拥有幸福的人生。\n",
      "________________________________________________________________________________\n"
     ]
    }
   ],
   "source": [
    "response = model.generate_content(\"人生的意义是什么?\",stream=True)\n",
    "for chunk in response:\n",
    "  print(chunk.text)\n",
    "  print(\"_\"*80)"
   ]
  },
  {
   "cell_type": "code",
   "execution_count": 24,
   "id": "7831bca0-8587-484f-badf-dfd03b181379",
   "metadata": {},
   "outputs": [],
   "source": [
    "# 图片的示例，先下载图片\n",
    "# curl -o image.jpg https://t0.gstatic.com/licensed-image?q=tbn:ANd9GcQ_Kevbk21QBRy-PgB4kQpS79brbmmEG7m3VOTShAn4PecDU5H5UxrJxE3Dw1JiaG17V88QIol19-3TM2wCHw"
   ]
  },
  {
   "cell_type": "code",
   "execution_count": 26,
   "id": "d02a613f-fcd5-496f-bc2d-72dd3e438365",
   "metadata": {},
   "outputs": [],
   "source": [
    "import PIL.Image\n",
    "\n",
    "img = PIL.Image.open('image.jpg')\n",
    "# img"
   ]
  },
  {
   "cell_type": "code",
   "execution_count": 27,
   "id": "77208ffd-0e6f-45e7-a89e-2d0b249e74b9",
   "metadata": {},
   "outputs": [],
   "source": [
    "# 换了另一个model\n",
    "model = genai.GenerativeModel('gemini-pro-vision')"
   ]
  },
  {
   "cell_type": "code",
   "execution_count": 28,
   "id": "5f2ec986-3753-4f43-aabf-a83b769dfa47",
   "metadata": {},
   "outputs": [
    {
     "data": {
      "text/markdown": [
       ">  Chicken Teriyaki with Brown Rice and Vegetables Meal Prep"
      ],
      "text/plain": [
       "<IPython.core.display.Markdown object>"
      ]
     },
     "execution_count": 28,
     "metadata": {},
     "output_type": "execute_result"
    }
   ],
   "source": [
    "response = model.generate_content(img)\n",
    "\n",
    "to_markdown(response.text)"
   ]
  },
  {
   "cell_type": "code",
   "execution_count": 31,
   "id": "21ccc8ba-b27e-409b-a129-1ac9c816be85",
   "metadata": {},
   "outputs": [],
   "source": [
    "# 图片和文字一起作为prompt\n",
    "response = model.generate_content([\"赞美以下这张图片，用诗的方式\", img], stream=True)\n",
    "response.resolve()"
   ]
  },
  {
   "cell_type": "code",
   "execution_count": 32,
   "id": "1d060aef-ef1a-4388-bb1a-64afb55dac1c",
   "metadata": {},
   "outputs": [
    {
     "data": {
      "text/markdown": [
       ">  ## **赞美美食**\n",
       "> \n",
       "> 这道菜肴，\n",
       "> 色香味俱全，\n",
       "> 让人垂涎欲滴。\n",
       "> \n",
       "> 鸡肉鲜嫩多汁，\n",
       "> 蔬菜清脆爽口，\n",
       "> 米饭香软可口。\n",
       "> \n",
       "> 吃一口，\n",
       "> 让人回味无穷。\n",
       "> \n",
       "> 这道菜肴，\n",
       "> 是厨师的精心之作，\n",
       "> 是美食的艺术品。\n",
       "> \n",
       "> 它不仅满足了人们的口腹之欲，\n",
       "> 也让人们的心灵得到升华。\n",
       "> \n",
       "> 我赞美这道菜肴，\n",
       "> 它是美食的杰作，\n",
       "> 是厨师的艺术品。"
      ],
      "text/plain": [
       "<IPython.core.display.Markdown object>"
      ]
     },
     "execution_count": 32,
     "metadata": {},
     "output_type": "execute_result"
    }
   ],
   "source": [
    "to_markdown(response.text)"
   ]
  }
 ],
 "metadata": {
  "kernelspec": {
   "display_name": "Python 3 (ipykernel)",
   "language": "python",
   "name": "python3"
  },
  "language_info": {
   "codemirror_mode": {
    "name": "ipython",
    "version": 3
   },
   "file_extension": ".py",
   "mimetype": "text/x-python",
   "name": "python",
   "nbconvert_exporter": "python",
   "pygments_lexer": "ipython3",
   "version": "3.11.1"
  }
 },
 "nbformat": 4,
 "nbformat_minor": 5
}
