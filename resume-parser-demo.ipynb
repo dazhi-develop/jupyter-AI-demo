{
 "cells": [
  {
   "cell_type": "code",
   "execution_count": 1,
   "id": "39b7eb3e-dd7c-4a02-8622-de9271bf2162",
   "metadata": {},
   "outputs": [],
   "source": [
    "from openai import OpenAI\n",
    "import time\n",
    "client = OpenAI()\n",
    "# print(client.api_key)"
   ]
  },
  {
   "cell_type": "code",
   "execution_count": 2,
   "id": "95e1e11a-f365-4976-958f-d2b2aa3a02ca",
   "metadata": {},
   "outputs": [
    {
     "name": "stdout",
     "output_type": "stream",
     "text": [
      "FileObject(id='file-LS40LWmKHATw9NCaOIvJIfNI', bytes=739585, created_at=1705390322, filename='3716.docx', object='file', purpose='assistants', status='processed', status_details=None)\n"
     ]
    }
   ],
   "source": [
    "#上传文件\n",
    "file = client.files.create(\n",
    "  file=open(\"3716.docx\", \"rb\"),\n",
    "  purpose='assistants'\n",
    ")\n",
    "\n",
    "print(file)"
   ]
  },
  {
   "cell_type": "code",
   "execution_count": 3,
   "id": "3fdc6743-d898-4029-8237-f723db024e7c",
   "metadata": {},
   "outputs": [],
   "source": [
    "instructions = f\"\"\"\n",
    "You are a resume analysis assistant that can parse resumes based on the files I uploaded. \n",
    "\"\"\""
   ]
  },
  {
   "cell_type": "code",
   "execution_count": 4,
   "id": "65f40dc8-bd5d-4bda-ab4c-dd49cc33bf0c",
   "metadata": {},
   "outputs": [
    {
     "name": "stdout",
     "output_type": "stream",
     "text": [
      "Assistant(id='asst_c8BJXTFncsHWXo0FSPXw5y8Q', created_at=1705390330, description=None, file_ids=['file-LS40LWmKHATw9NCaOIvJIfNI'], instructions='\\nYou are a resume analysis assistant that can parse resumes based on the files I uploaded. \\n', metadata={}, model='gpt-3.5-turbo-1106', name=None, object='assistant', tools=[ToolRetrieval(type='retrieval')])\n"
     ]
    }
   ],
   "source": [
    "#创建assistant\n",
    "assistant = client.beta.assistants.create(\n",
    "  instructions=instructions,\n",
    "  model=\"gpt-3.5-turbo-1106\",\n",
    "  tools=[{\"type\": \"retrieval\"}],\n",
    "  file_ids=[file.id]\n",
    ")\n",
    "\n",
    "# my_assistant = client.beta.assistants.retrieve(assistant.id)\n",
    "print(assistant)"
   ]
  },
  {
   "cell_type": "code",
   "execution_count": 5,
   "id": "b261bf69-64e0-4c74-b35d-a913021d755b",
   "metadata": {},
   "outputs": [],
   "source": [
    "prompt = f\"\"\"\n",
    "Your task is to parse the uploaded file, which is a resume. \\\n",
    "You have to extract the content and output it in json format. \\\n",
    "json should contains several Fields: name, school, phone, educational, experience.\\\n",
    "The educational field represents educational experience and academic qualifications information,\\\n",
    "If no relevant content is found, this field can be empty.\\\n",
    "The experience field represents work experience,\\\n",
    "If no relevant content is found, this field can be empty.\n",
    "\"\"\""
   ]
  },
  {
   "cell_type": "code",
   "execution_count": 6,
   "id": "64e1d66a-a79a-4e08-b725-78ef534d3a4d",
   "metadata": {},
   "outputs": [
    {
     "name": "stdout",
     "output_type": "stream",
     "text": [
      "Thread(id='thread_Alk5IIGcgzo1p84gcI7PeBOZ', created_at=1705390346, metadata={}, object='thread')\n"
     ]
    }
   ],
   "source": [
    "# 创建一个thread（交互）\n",
    "thread = client.beta.threads.create(\n",
    "    messages=[\n",
    "    {\n",
    "      \"role\": \"user\",\n",
    "      \"content\":prompt,\n",
    "      \"file_ids\": [file.id]\n",
    "    }\n",
    "  ]\n",
    ")\n",
    "\n",
    "print(thread)"
   ]
  },
  {
   "cell_type": "code",
   "execution_count": 7,
   "id": "db8b2a22-6c7b-454e-9274-540beb4c9851",
   "metadata": {},
   "outputs": [],
   "source": [
    "#和大模型对话\n",
    "run = client.beta.threads.runs.create(\n",
    "    thread_id=thread.id,\n",
    "    assistant_id=assistant.id,\n",
    ")"
   ]
  },
  {
   "cell_type": "code",
   "execution_count": 8,
   "id": "f2e7e81c-1971-467c-8fc5-43ab5e4f349f",
   "metadata": {},
   "outputs": [],
   "source": [
    "while True:\n",
    "    run = client.beta.threads.runs.retrieve(thread_id=thread.id, run_id=run.id)\n",
    "    if run.status not in [\"queued\", \"in_progress\"]:\n",
    "        break\n",
    "    time.sleep(1)"
   ]
  },
  {
   "cell_type": "code",
   "execution_count": null,
   "id": "5ac1100a-231b-441f-99fc-dc689e228dbc",
   "metadata": {},
   "outputs": [],
   "source": [
    "messages = client.beta.threads.messages.list(thread_id=thread.id)\n",
    "text = messages.data[0].content[0].text.value\n",
    "print(text)"
   ]
  }
 ],
 "metadata": {
  "kernelspec": {
   "display_name": "Python 3 (ipykernel)",
   "language": "python",
   "name": "python3"
  },
  "language_info": {
   "codemirror_mode": {
    "name": "ipython",
    "version": 3
   },
   "file_extension": ".py",
   "mimetype": "text/x-python",
   "name": "python",
   "nbconvert_exporter": "python",
   "pygments_lexer": "ipython3",
   "version": "3.11.1"
  }
 },
 "nbformat": 4,
 "nbformat_minor": 5
}
