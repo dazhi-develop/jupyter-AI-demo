{
 "cells": [
  {
   "cell_type": "markdown",
   "metadata": {},
   "source": [
    "## GPT函数调用"
   ]
  },
  {
   "cell_type": "code",
   "execution_count": 1,
   "metadata": {},
   "outputs": [],
   "source": [
    "def get_current_weather(location=\"北京市\"):\n",
    "    return \"多云，温度26摄氏度\"\n"
   ]
  },
  {
   "cell_type": "code",
   "execution_count": 2,
   "metadata": {},
   "outputs": [],
   "source": [
    "from openai import OpenAI\n",
    "client = OpenAI()"
   ]
  },
  {
   "cell_type": "code",
   "execution_count": 9,
   "metadata": {},
   "outputs": [],
   "source": [
    "def chat_completion_request(messages, tools=None, tool_choice=None):\n",
    "    try:\n",
    "        response = client.chat.completions.create(\n",
    "            model = \"gpt-3.5-turbo-0613\",\n",
    "            messages=messages,\n",
    "            tools=tools,\n",
    "            tool_choice=tool_choice\n",
    "        )\n",
    "        return response\n",
    "    except Exception as e:\n",
    "        print(f\"exception: {e}\")\n",
    "        return e"
   ]
  },
  {
   "cell_type": "code",
   "execution_count": 4,
   "metadata": {},
   "outputs": [],
   "source": [
    "tools = [\n",
    "    {\n",
    "        \"type\": \"function\",\n",
    "        \"function\": {\n",
    "            \"name\": \"get_current_weather\",\n",
    "            \"description\": \"获取当前的天气\",\n",
    "            \"parameters\": {\n",
    "                \"type\": \"object\",\n",
    "                \"properties\": {\n",
    "                    \"location\": {\n",
    "                        \"type\": \"string\",\n",
    "                        \"description\": \"城市名称，比如北京\",\n",
    "                    },\n",
    "                },\n",
    "                \"required\": [\"location\"],\n",
    "            },\n",
    "        }\n",
    "    },\n",
    "]"
   ]
  },
  {
   "cell_type": "code",
   "execution_count": 19,
   "metadata": {},
   "outputs": [],
   "source": [
    "messages = []\n",
    "messages.append({\"role\": \"system\", \"content\": \"回答用户的问题，并给出相关出行建议\"})\n",
    "messages.append({\"role\": \"user\", \"content\": \"今天深圳的天气怎么样\"})\n",
    "chat_response = chat_completion_request(\n",
    "    messages, tools=tools\n",
    ")\n",
    "\n",
    "assistant_message = chat_response.choices[0].message\n",
    "# print(assistant_message)"
   ]
  },
  {
   "cell_type": "code",
   "execution_count": 12,
   "metadata": {},
   "outputs": [
    {
     "data": {
      "text/plain": [
       "{'content': None,\n",
       " 'role': 'assistant',\n",
       " 'function_call': None,\n",
       " 'tool_calls': [{'id': 'call_xOZKKfJ9ht5zDs2XJeAXG7w0',\n",
       "   'function': {'arguments': '{\\n  \"location\": \"深圳\"\\n}',\n",
       "    'name': 'get_current_weather'},\n",
       "   'type': 'function'}]}"
      ]
     },
     "execution_count": 12,
     "metadata": {},
     "output_type": "execute_result"
    }
   ],
   "source": [
    "assistant_message.model_dump()"
   ]
  },
  {
   "cell_type": "code",
   "execution_count": 13,
   "metadata": {},
   "outputs": [],
   "source": [
    "def execute_func_call(messages):\n",
    "    if messages.tool_calls[0].function.name == \"get_current_weather\":\n",
    "        argument = messages.tool_calls[0].function.arguments\n",
    "        results = get_current_weather(argument)\n",
    "        return results\n",
    "    else:\n",
    "        return f\"function does not exist\""
   ]
  },
  {
   "cell_type": "code",
   "execution_count": 20,
   "metadata": {},
   "outputs": [
    {
     "name": "stdout",
     "output_type": "stream",
     "text": [
      "[{'role': 'system', 'content': '回答用户的问题，并给出相关出行建议'}, {'role': 'user', 'content': '今天深圳的天气怎么样'}, {'role': 'function', 'tool_call_id': 'call_O66csPz01nfAkAi87z4618TB', 'name': 'get_current_weather', 'content': '多云，温度26摄氏度'}, {'role': 'assistant', 'content': 'Function(arguments=\\'{\\\\n  \"location\": \"深圳\"\\\\n}\\', name=\\'get_current_weather\\')'}]\n"
     ]
    }
   ],
   "source": [
    "if assistant_message.tool_calls:\n",
    "    results = execute_func_call(assistant_message)\n",
    "    messages.append({\"role\": \"function\", \"tool_call_id\": assistant_message.tool_calls[0].id, \n",
    "                     \"name\": assistant_message.tool_calls[0].function.name, \n",
    "                     \"content\": results})\n",
    "\n",
    "assistant_message.content = str(assistant_message.tool_calls[0].function)\n",
    "messages.append({\"role\": assistant_message.role, \"content\": assistant_message.content})\n",
    "\n",
    "print(messages)"
   ]
  },
  {
   "cell_type": "code",
   "execution_count": 21,
   "metadata": {},
   "outputs": [
    {
     "name": "stdout",
     "output_type": "stream",
     "text": [
      "根据最新的天气信息，深圳今天多云，气温约为26摄氏度。如果您计划外出，建议您带上一把雨伞，以防突然下雨。另外，注意防晒并保持水分补充，确保身体健康。祝您有个愉快的一天！\n"
     ]
    }
   ],
   "source": [
    "chat_response = chat_completion_request(\n",
    "    messages, tools=None, tool_choice=None\n",
    ")\n",
    "print(chat_response.choices[0].message.content)"
   ]
  }
 ],
 "metadata": {
  "kernelspec": {
   "display_name": "base",
   "language": "python",
   "name": "python3"
  },
  "language_info": {
   "codemirror_mode": {
    "name": "ipython",
    "version": 3
   },
   "file_extension": ".py",
   "mimetype": "text/x-python",
   "name": "python",
   "nbconvert_exporter": "python",
   "pygments_lexer": "ipython3",
   "version": "3.11.5"
  }
 },
 "nbformat": 4,
 "nbformat_minor": 2
}
