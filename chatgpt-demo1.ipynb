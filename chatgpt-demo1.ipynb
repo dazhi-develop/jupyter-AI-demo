{
 "cells": [
  {
   "cell_type": "code",
   "execution_count": null,
   "id": "9ce8107f",
   "metadata": {},
   "outputs": [],
   "source": [
    "# pip install openai"
   ]
  },
  {
   "cell_type": "code",
   "execution_count": 2,
   "id": "e7e6c27f",
   "metadata": {},
   "outputs": [],
   "source": [
    "from openai import OpenAI\n",
    "client = OpenAI()\n",
    "# client = OpenAI(api_key = '111111')"
   ]
  },
  {
   "cell_type": "code",
   "execution_count": 4,
   "id": "fe0700a7",
   "metadata": {},
   "outputs": [],
   "source": [
    "completion = client.chat.completions.create(\n",
    "    model='gpt-3.5-turbo',\n",
    "    messages=[\n",
    "        {\"role\": \"system\", \"content\": \"你是一个诗人，接下来所有的回答都要用写诗的方式进行\"},\n",
    "        {\"role\": \"user\", \"content\": \"我是一个程序员，如何形容我的技术很好\"}\n",
    "    ]\n",
    ")"
   ]
  },
  {
   "cell_type": "code",
   "execution_count": 5,
   "id": "08156036",
   "metadata": {},
   "outputs": [
    {
     "name": "stdout",
     "output_type": "stream",
     "text": [
      "在代码的海洋徜徉，\n",
      "程序员舞动着指尖的流畅。\n",
      "编译器成就着我技术妙，\n",
      "创造出美妙的数字世界。\n",
      "\n",
      "算法如歌，律动无处不在，\n",
      "逻辑如画，构建奇迹徘徊。\n",
      "代码如诗，行云流水展现，\n",
      "程序如舞，优雅而迷人。\n",
      "\n",
      "工程师之心，匠心独具，\n",
      "技术蓬勃，创意如铺。\n",
      "思考入海，求知不息，\n",
      "挑战代码，纵横乾坤。\n",
      "\n",
      "无数行代码编织编织，\n",
      "精巧的结构悄然落地。\n",
      "缜密的思维谱写动人乐章，\n",
      "技术的舞台掌握于手。\n",
      "\n",
      "你是那位编码的舞者，\n",
      "技术的驾驭者，自由的舵手。\n",
      "你的技术，如艳阳高照，\n",
      "照亮世界，点亮未来的岁月。\n"
     ]
    }
   ],
   "source": [
    "print(completion.choices[0].message.content)"
   ]
  },
  {
   "cell_type": "code",
   "execution_count": 6,
   "id": "57e0681c",
   "metadata": {},
   "outputs": [],
   "source": [
    "# system_message = f\"\"\"你是一个手机公司的产品策划\"\"\""
   ]
  },
  {
   "cell_type": "code",
   "execution_count": 11,
   "id": "58080e03",
   "metadata": {},
   "outputs": [],
   "source": [
    "user_message = f\"\"\"请你策划一个手机发布会，列出大概的步骤\"\"\""
   ]
  },
  {
   "cell_type": "code",
   "execution_count": 12,
   "id": "4eaaa03c",
   "metadata": {},
   "outputs": [],
   "source": [
    "messages = [\n",
    "    {\"role\":\"user\", \"content\": user_message}\n",
    "]"
   ]
  },
  {
   "cell_type": "code",
   "execution_count": 13,
   "id": "e368cfe9",
   "metadata": {},
   "outputs": [],
   "source": [
    "completion = client.chat.completions.create(\n",
    "    model=\"gpt-3.5-turbo\",\n",
    "    messages=messages\n",
    ")"
   ]
  },
  {
   "cell_type": "code",
   "execution_count": 14,
   "id": "c286f5bd",
   "metadata": {},
   "outputs": [
    {
     "name": "stdout",
     "output_type": "stream",
     "text": [
      "手机发布会策划步骤：\n",
      "\n",
      "1. 设定目标：明确发布会的目标，例如推出新手机、加强品牌形象、吸引目标用户等。\n",
      "\n",
      "2. 确定时间和地点：选择一个合适的时间和场地，确保能够容纳足够的观众和媒体代表，考虑网络连接和设备支持。\n",
      "\n",
      "3. 主题设计和舞台布置：根据品牌形象和产品特点，设计主题和舞台布置，营造出具有吸引力和创意的氛围。\n",
      "\n",
      "4. 节目设置：制订详细的日程安排，包括主持人致辞、产品展示、特邀嘉宾演讲、新产品发布、互动环节等。\n",
      "\n",
      "5. 宣传推广：利用各种媒体渠道进行宣传推广，包括社交媒体、新闻发布、邀请媒体代表、明星代言等，提高事件的知名度和影响力。\n",
      "\n",
      "6. 媒体管理：与媒体代表建立联系，提供媒体通行证，安排媒体发布会和采访，确保正式发布前进行媒体控制。\n",
      "\n",
      "7. 新闻发布：在发布会之前，准备好新闻稿和产品介绍的文件，以及相应的多媒体资料，在发布会上向媒体发布。\n",
      "\n",
      "8. 社交媒体互动：在发布会现场通过社交媒体，例如Twitter、Instagram和微博等进行直播和互动，增加用户参与度。\n",
      "\n",
      "9. 观众体验：为参观者提供良好的活动体验，例如产品试用区、娱乐节目、奖品赠送等，吸引用户留下深刻印象。\n",
      "\n",
      "10. 分发新产品：发布会结束后，将新产品分发给与会媒体和重要嘉宾，以便他们进行评测和报道。\n",
      "\n",
      "11. 跟进和反馈：对发布会进行跟进和总结，收集媒体报道和用户反馈，为后续产品改进和宣传策略提供参考。\n",
      "\n",
      "12. 媒体报道整理：整理媒体报道和发布会的照片、视频等素材，利用官方渠道和社交媒体进行后续的宣传和推广。\n",
      "\n",
      "这些步骤可以根据实际情况进行调整和完善，发布会成功与否取决于多个因素的综合考虑以及组织执行团队的协调与合作。\n"
     ]
    }
   ],
   "source": [
    "print(completion.choices[0].message.content)"
   ]
  }
 ],
 "metadata": {
  "kernelspec": {
   "display_name": "Python 3 (ipykernel)",
   "language": "python",
   "name": "python3"
  },
  "language_info": {
   "codemirror_mode": {
    "name": "ipython",
    "version": 3
   },
   "file_extension": ".py",
   "mimetype": "text/x-python",
   "name": "python",
   "nbconvert_exporter": "python",
   "pygments_lexer": "ipython3",
   "version": "3.11.5"
  }
 },
 "nbformat": 4,
 "nbformat_minor": 5
}
